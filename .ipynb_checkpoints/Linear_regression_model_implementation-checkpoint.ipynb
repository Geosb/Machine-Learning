{
 "cells": [
  {
   "cell_type": "markdown",
   "id": "f23a4bd3-84fd-4990-bfcd-83597672340f",
   "metadata": {},
   "source": [
    "<h1 style=\"text-align: center;\">Implementing</h1>\n",
    "<h2 style=\"text-align: center;\">A Simple Linear Regression Model</h2>\n",
    "<h3 style=\"text-align: center;\">with Object Oriented Programing Class</h3>"
   ]
  },
  {
   "cell_type": "markdown",
   "id": "c5e66c00-9b67-4c79-b8e3-9db80368be74",
   "metadata": {},
   "source": [
    "I implement a simple linear regression from scratch without using scikit learn or sklearn library. I first show the whole code, then later explain each module line by line then asnwer one question below.\n",
    "\n",
    "## content:\n",
    "\n",
    "  Import numpy library.\n",
    "1. Class Definition\n",
    "2. __init__ Method (Constructor)\n",
    "3. Fit Method\n",
    "4. Predict Method\n",
    "5. Rsquared Method\n",
    "6. Example Usage\n",
    "7. Summary\n",
    "8. Question\n",
    "9. Update the fit method\n",
    "10. Update the predict method"
   ]
  },
  {
   "cell_type": "code",
   "execution_count": 8,
   "id": "c7b93a27-f800-4182-829e-d90468ad5f35",
   "metadata": {},
   "outputs": [
    {
     "name": "stdout",
     "output_type": "stream",
     "text": [
      "[1. 2. 3. 4. 5.]\n",
      "1.0\n"
     ]
    }
   ],
   "source": [
    "import numpy as np\n",
    "\n",
    "class LinearRegression:\n",
    "    def __init__(self):\n",
    "        # Initialize the coefficients and intercept, \n",
    "        # these will be calculated after fitting the model\n",
    "        self.intercept = None\n",
    "        self.coefficient = None\n",
    "\n",
    "    def fit(self, X, y):\n",
    "        # Add a column of ones for the intercept (bias term)\n",
    "        ones = np.ones((len(X),1))\n",
    "        X = np.concatenate((ones, X), axis=1)\n",
    "\n",
    "        # Calculate the Normal Equation (no need to memorize):\n",
    "        # (X^T * X)^−1 * X^T * y\n",
    "        XT = X.T # Transpose X\n",
    "        XTX = XT.dot(X) # X^T * X\n",
    "        XTX_inv = np.linalg.inv(XTX) # Inverse of (X^T * X)\n",
    "        XTy = XT.dot(y) # X^T * y\n",
    "        self.coefficient = XTX_inv.dot(XTy) # Calculate the coefficients\n",
    "        \n",
    "    def predict(self, X):\n",
    "        # Add a column of ones to match the structure used in fitting the model\n",
    "        ones = np.ones((len(X),1))\n",
    "        X = np.concatenate((ones, X), axis = 1)\n",
    "\n",
    "        # Use the calculated coefficients to make predictions\n",
    "        return X.dot(self.coefficient)\n",
    "        \n",
    "    def Rsquared(self, X, y):\n",
    "        # R^2 = 1 - (SSR/SST)\n",
    "        # Calculate R-squared to evaluate model performance\n",
    "        ypred = self.predict(X)\n",
    "        # SST = (Y - MEAN(Y))**2\n",
    "        ss_total = np.sum((y - np.mean(y))**2) # Total sum of squares\n",
    "        # SSR = (Y - Y^)**2\n",
    "        ss_residual = np.sum((y - ypred)**2) # Residual sum of squares\n",
    "\n",
    "        return 1 - (ss_residual/ss_total) # R-squared formula\n",
    "\n",
    "\n",
    "import numpy as np\n",
    "\n",
    "# Sample data\n",
    "X = np.array([[1], [2], [3], [4], [5]])\n",
    "y = np.array([1, 2, 3, 4, 5])\n",
    "\n",
    "# Initialize and fit the model\n",
    "model = LinearRegression()\n",
    "model.fit(X, y)\n",
    "\n",
    "# Make predictions and calculate R-squared\n",
    "ypred = model.predict(X)\n",
    "print(ypred)  # Predicted values\n",
    "\n",
    "print(model.Rsquared(X, y))  # R-squared value"
   ]
  },
  {
   "cell_type": "markdown",
   "id": "32486c90-2f2f-4ed8-848f-bf0a1f8e3150",
   "metadata": {},
   "source": [
    "### Import numpy library for array manipulation"
   ]
  },
  {
   "cell_type": "code",
   "execution_count": 9,
   "id": "a301824a-bfcb-45fa-8cc5-4c0935d2436a",
   "metadata": {},
   "outputs": [],
   "source": [
    "import numpy as np"
   ]
  },
  {
   "cell_type": "markdown",
   "id": "0598208e-cc72-4b72-9698-645a3cdd3fa6",
   "metadata": {},
   "source": [
    "The class in the image is implementing a basic Linear Regression model from scratch in Python using NumPy. Below is an explanation of each part of the class and methods in detail.\n",
    "\n",
    "\n",
    "## 1. Class Definition:"
   ]
  },
  {
   "cell_type": "code",
   "execution_count": null,
   "id": "ed6aa173-82ca-4781-8957-0b9740bda880",
   "metadata": {},
   "outputs": [],
   "source": [
    "class LinearRegression:"
   ]
  },
  {
   "cell_type": "markdown",
   "id": "7089b190-a94e-43a6-a5cb-ff7420081c6f",
   "metadata": {},
   "source": [
    "This line defines a new class called LinearRegression. This class will have methods for fitting a linear regression model, making predictions, and calculating the R-squared value.\n",
    "\n",
    "## 2. __init__ Method (Constructor):"
   ]
  },
  {
   "cell_type": "code",
   "execution_count": null,
   "id": "c719db7d-e12b-423b-9e81-6d8d543e96f0",
   "metadata": {},
   "outputs": [],
   "source": [
    "def __init__(self):\n",
    "    # Initialize the coefficients and intercept, \n",
    "    # these will be calculated after fitting the model\n",
    "    self.intercept = None\n",
    "    self.coefficient = None"
   ]
  },
  {
   "cell_type": "markdown",
   "id": "0efb5b68-1728-44ef-9b8f-2b078334818d",
   "metadata": {},
   "source": [
    "This is the constructor method that is called when an instance of the class is created.\n",
    "It initializes two instance variables:\n",
    "self.intercept: This will store the intercept (or bias term) after the model is trained.\n",
    "self.coefficients: This will store the coefficients (weights) of the features in the model.\n",
    "Initially, both are set to None because they will be calculated after the model is fitted.\n",
    "\n",
    "## 3. fit Method:"
   ]
  },
  {
   "cell_type": "code",
   "execution_count": null,
   "id": "b12cf058-477d-4103-a54a-d86ec6ab2f38",
   "metadata": {},
   "outputs": [],
   "source": [
    "def fit(self, X, y):\n",
    "    # Add a column of ones for the intercept (bias term)\n",
    "    ones = np.ones((len(X),1))\n",
    "    X = np.concatenate((ones, X), axis=1)\n",
    "\n",
    "    # Calculate the Normal Equation (no need to memorize):\n",
    "    # (X^T * X)^−1 * X^T * y\n",
    "    XT = X.T # Transpose X\n",
    "    XTX = XT.dot(X) # X^T * X\n",
    "    XTX_inv = np.linalg.inv(XTX) # Inverse of (X^T * X)\n",
    "    XTy = XT.dot(y) # X^T * y\n",
    "    self.coefficient = XTX_inv.dot(XTy) # Calculate the coefficients"
   ]
  },
  {
   "cell_type": "markdown",
   "id": "20e31f7c-124e-4aaf-a735-522a117b51e3",
   "metadata": {},
   "source": [
    "The fit method calculates the coefficients of the linear regression model using the Normal Equation:\n",
    "\n",
    "Steps:\n",
    "\n",
    "Adding Ones for Intercept:\n",
    "\n",
    "A column of ones is added to the input matrix X to account for the intercept (bias term) in the linear regression equation.\n",
    "\n",
    "np.ones((len(X), 1)) creates a column vector of ones with the same number of rows as X.\n",
    "\n",
    "The ones are concatenated to X using np.concatenate().\n",
    "\n",
    "Normal Equation:\n",
    "\n",
    "The coefficients are calculated using the Normal Equation:\n",
    "\n",
    "𝜃 = (𝑋𝑇𝑋)^−1𝑋𝑇𝑦\n",
    "\n",
    "XT = X.T: This is the transpose of matrix X.\n",
    "\n",
    "XTX = XT.dot(X): This computes 𝑋𝑇𝑋.\n",
    "\n",
    "XTX_inv = np.linalg.inv(XTX): This calculates the inverse of 𝑋𝑇𝑋.\n",
    "\n",
    "XTy = XT.dot(y): This computes 𝑋𝑇𝑦.\n",
    "\n",
    "Finally, the coefficients are computed as XTX_inv.dot(XTy).\n",
    "\n",
    "The result is stored in self.coefficients.\n",
    "\n",
    "## 4. predict Method:"
   ]
  },
  {
   "cell_type": "code",
   "execution_count": null,
   "id": "a81d3f8d-cff6-4a1e-8b74-44f9554c908a",
   "metadata": {},
   "outputs": [],
   "source": [
    "def predict(self, X):\n",
    "    # Add a column of ones to match the structure used in fitting the model\n",
    "    ones = np.ones((len(X),1))\n",
    "    X = np.concatenate((ones, X), axis = 1)\n",
    "\n",
    "    # Use the calculated coefficients to make predictions\n",
    "    return X.dot(self.coefficient)"
   ]
  },
  {
   "cell_type": "markdown",
   "id": "c882f0c3-4fae-4741-b027-23d5e403c307",
   "metadata": {},
   "source": [
    "The predict method takes in new input data X and makes predictions using the coefficients calculated by the fit method.\n",
    "\n",
    "Steps:\n",
    "Adding Ones for Intercept:\n",
    "\n",
    "Just like in the fit method, it adds a column of ones to the input X to account for the intercept term.\n",
    "\n",
    "Prediction:\n",
    "\n",
    "It multiplies X with the calculated coefficients using matrix multiplication (X.dot(self.coefficients)).\n",
    "\n",
    "This gives the predicted values (outputs) for the input X.\n",
    "\n",
    "## 5. Rsquared Method:"
   ]
  },
  {
   "cell_type": "code",
   "execution_count": null,
   "id": "a4d5fe1c-1e47-4bcb-a772-aa170879f57f",
   "metadata": {},
   "outputs": [],
   "source": [
    "def Rsquared(self, X, y):\n",
    "    # R^2 = 1 - (SSR/SST)\n",
    "    # Calculate R-squared to evaluate model performance\n",
    "    ypred = self.predict(X)\n",
    "    # SST = (Y - MEAN(Y))**2\n",
    "    ss_total = np.sum((y - np.mean(y))**2) # Total sum of squares\n",
    "    # SSR = (Y - Y^)**2\n",
    "    ss_residual = np.sum((y - ypred)**2) # Residual sum of squares\n",
    "\n",
    "    return 1 - (ss_residual/ss_total) # R-squared formula"
   ]
  },
  {
   "cell_type": "markdown",
   "id": "9c3be963-4c54-4b69-8bb1-d5dbf78067f4",
   "metadata": {},
   "source": [
    "The Rsquared method calculates the R-squared value, which is a measure of how well the model fits the data. The R-squared value ranges between 0 and 1, with 1 meaning a perfect fit.\n",
    "\n",
    "Steps:\n",
    "\n",
    "Prediction:\n",
    "\n",
    "It first makes predictions using the predict method and stores the predicted values in ypred.\n",
    "\n",
    "Total Sum of Squares (ss_total):\n",
    "\n",
    "This measures the total variance in the dependent variable y.\n",
    "\n",
    "It's calculated as the sum of squared differences between y and the mean of y:\n",
    "𝑆𝑆𝑡𝑜𝑡𝑎𝑙 = ∑(𝑦 − mean(𝑦))2\n",
    " \n",
    "Residual Sum of Squares (ss_residual):\n",
    "\n",
    "This measures the error (residuals) between the true values and the predicted values.\n",
    "\n",
    "It's calculated as the sum of squared differences between y and ypred:\n",
    "𝑆𝑆𝑟𝑒𝑠𝑖𝑑𝑢𝑎𝑙 = ∑(𝑦−𝑦^)2\n",
    " \n",
    "R-squared Formula:\n",
    "\n",
    "The R-squared value is computed as:\n",
    "𝑅2 = 1 − (𝑆𝑆𝑟𝑒𝑠𝑖𝑑𝑢𝑎𝑙/𝑆𝑆𝑡𝑜𝑡𝑎𝑙)\n",
    " \n",
    "It returns this value as the output.\n",
    "\n",
    "## 6. Example Usage:\n",
    "\n",
    "The bottom part of the code demonstrates how to use the class:"
   ]
  },
  {
   "cell_type": "code",
   "execution_count": null,
   "id": "e9592701-1aa7-40ed-9761-63701bc895b2",
   "metadata": {},
   "outputs": [],
   "source": [
    "import numpy as np\n",
    "\n",
    "# Sample data\n",
    "X = np.array([[1], [2], [3], [4], [5]])\n",
    "y = np.array([1, 2, 3, 4, 5])\n",
    "\n",
    "# Initialize and fit the model\n",
    "model = LinearRegression()\n",
    "model.fit(X, y)\n",
    "\n",
    "# Make predictions and calculate R-squared\n",
    "ypred = model.predict(X)\n",
    "print(ypred)  # Predicted values\n",
    "\n",
    "print(model.Rsquared(X, y))  # R-squared value"
   ]
  },
  {
   "cell_type": "markdown",
   "id": "599e1e28-4f38-4769-ba5b-0c7f6b91bb44",
   "metadata": {},
   "source": [
    "Data: The input X is a set of feature values, and y is the target variable.\n",
    "    \n",
    "Model Initialization: A LinearRegression model is instantiated.\n",
    "\n",
    "Model Fitting: The model is trained using the fit method with the provided X and y.\n",
    "    \n",
    "Predictions: The predict method is used to generate predictions for X.\n",
    "                                                               \n",
    "R-squared: Finally, the Rsquared method calculates how well the model fits the data.\n",
    "                                                               \n",
    "Summary:\n",
    "                                                               \n",
    "__init__: Initializes intercept and coefficients to None.\n",
    "                                                               \n",
    "fit: Fits the linear regression model by computing the coefficients using the Normal Equation.\n",
    "\n",
    "predict: Predicts values using the calculated coefficients.\n",
    "\n",
    "Rsquared: Calculates the R-squared value to measure the model's performance.\n",
    "\n",
    "This is a simple implementation of linear regression, which manually calculates the coefficients using matrix algebra rather than relying on machine learning libraries like scikit-learn."
   ]
  },
  {
   "cell_type": "markdown",
   "id": "0e715dd3-c50c-4de9-8158-bd113e6024d5",
   "metadata": {},
   "source": [
    "## one question:\n",
    "\n",
    "In the code intercept was initialized but never used, why?\n",
    "\n",
    "The intercept is initialized in the __init__ method:"
   ]
  },
  {
   "cell_type": "code",
   "execution_count": 6,
   "id": "44455bd6-94c4-494f-8fc6-e2dd2aec5f7e",
   "metadata": {},
   "outputs": [],
   "source": [
    "self.intercept = None"
   ]
  },
  {
   "cell_type": "markdown",
   "id": "e01fcb10-8684-46a1-8ea6-45dcfb34e994",
   "metadata": {},
   "source": [
    "However, the code does not explicitly calculate or store the intercept separately. Instead, it includes the intercept (bias term) in the coefficients array by adding a column of ones to the feature matrix X in both the fit and predict methods.\n",
    "\n",
    "Why the intercept isn't used directly:\n",
    "\n",
    "Intercept as Part of Coefficients:\n",
    "\n",
    "In linear regression, the intercept (bias term) is just a constant that shifts the regression line. The code accounts for this by adding a column of ones to X before calculating the coefficients.\n",
    "\n",
    "The first coefficient in the self.coefficients array represents the intercept.\n",
    "    \n",
    "No Need to Store Separately:\n",
    "\n",
    "Since the intercept is implicitly included as the first value in the coefficients array, there's no need to store it separately as self.intercept.\n",
    "\n",
    "To make use of the intercept explicitly:\n",
    "\n",
    "If you want to make the intercept more explicit, you can modify the code to store it separately:\n",
    "\n",
    "# Modified Code:\n",
    "\n",
    "## 1. Update the fit method:"
   ]
  },
  {
   "cell_type": "code",
   "execution_count": null,
   "id": "63f7789d-59df-4470-9e73-f7b39db91102",
   "metadata": {},
   "outputs": [],
   "source": [
    "def fit(self, X, y):\n",
    "    # Add a column of ones for the intercept (bias term)\n",
    "    ones = np.ones((len(X), 1))\n",
    "    X = np.concatenate((ones, X), axis=1)\n",
    "\n",
    "    # Calculate the Normal Equation\n",
    "    XT = X.T  # Transpose of X\n",
    "    XTX = XT.dot(X)  # X^T * X\n",
    "    XTX_inv = np.linalg.inv(XTX)  # Inverse of (X^T * X)\n",
    "    XTy = XT.dot(y)  # X^T * y\n",
    "    self.coefficients = XTX_inv.dot(XTy)  # Calculate the coefficients\n",
    "    \n",
    "    # Store the intercept separately\n",
    "    self.intercept = self.coefficients[0]  # First coefficient is the intercept\n",
    "    self.coefficients = self.coefficients[1:]  # Remaining coefficients are for the features"
   ]
  },
  {
   "cell_type": "markdown",
   "id": "124bcd02-3e3c-418f-88f6-37c281bb915d",
   "metadata": {},
   "source": [
    "## 2. Update the predict method:"
   ]
  },
  {
   "cell_type": "code",
   "execution_count": null,
   "id": "2b09b527-4576-4933-8f95-4205eac07c18",
   "metadata": {},
   "outputs": [],
   "source": [
    "def predict(self, X):\n",
    "    # No need to add a column of ones, intercept is now separate\n",
    "    return X.dot(self.coefficients) + self.intercept"
   ]
  },
  {
   "cell_type": "markdown",
   "id": "ebd7d170-c0d4-4bca-a51d-a16de3ba7190",
   "metadata": {},
   "source": [
    "## What changed:\n",
    "In fit: The first coefficient is now stored in self.intercept. The remaining coefficients for the features are stored in self.coefficients.\n",
    "\n",
    "In predict: The intercept is added separately when making predictions.\n",
    "Now, the intercept is explicitly stored and used during prediction!"
   ]
  },
  {
   "cell_type": "code",
   "execution_count": null,
   "id": "47dc7f8d-ac80-457d-92e7-700a37e9d4ee",
   "metadata": {},
   "outputs": [],
   "source": []
  }
 ],
 "metadata": {
  "kernelspec": {
   "display_name": "Python 3 (ipykernel)",
   "language": "python",
   "name": "python3"
  },
  "language_info": {
   "codemirror_mode": {
    "name": "ipython",
    "version": 3
   },
   "file_extension": ".py",
   "mimetype": "text/x-python",
   "name": "python",
   "nbconvert_exporter": "python",
   "pygments_lexer": "ipython3",
   "version": "3.11.5"
  }
 },
 "nbformat": 4,
 "nbformat_minor": 5
}
